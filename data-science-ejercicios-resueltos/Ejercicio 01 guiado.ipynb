{
 "cells": [
  {
   "cell_type": "code",
   "execution_count": 6,
   "metadata": {},
   "outputs": [
    {
     "name": "stdout",
     "output_type": "stream",
     "text": [
      "['a', 'b', 'c', 'e', 'd', 'f', 'g', 'h', 'i', 'j', 'k', 'l', 'm', 'n', 'o', 'p', 'q', 'r', 's', 't', 'u', 'v', 'w', 'x', 'y', 'z']\n",
      "[ 0  1  2  3  4  5  6  7  8  9 10 11 12 13 14 15 16 17 18 19 20 21 22 23\n",
      " 24 25]\n",
      "{'a': 0, 'b': 1, 'c': 2, 'e': 3, 'd': 4, 'f': 5, 'g': 6, 'h': 7, 'i': 8, 'j': 9, 'k': 10, 'l': 11, 'm': 12, 'n': 13, 'o': 14, 'p': 15, 'q': 16, 'r': 17, 's': 18, 't': 19, 'u': 20, 'v': 21, 'w': 22, 'x': 23, 'y': 24, 'z': 25}\n",
      "a    0\n",
      "b    1\n",
      "c    2\n",
      "e    3\n",
      "d    4\n",
      "dtype: int64\n"
     ]
    }
   ],
   "source": [
    "import numpy as np\n",
    "import pandas as pd\n",
    "\"\"\"\n",
    "Inputs\n",
    "\"\"\"\n",
    "lista = list('abcedfghijklmnopqrstuvwxyz')\n",
    "arr = np.arange(26)\n",
    "diccionario = dict(zip(lista, arr))\n",
    "\"\"\"\n",
    "Mostrar los set de datos\n",
    "\"\"\"\n",
    "print(lista)\n",
    "print(arr)\n",
    "print(diccionario)\n",
    "\"\"\"\n",
    "Solución tomando una de las series\n",
    "\"\"\"\n",
    "serie1 = pd.Series(lista)\n",
    "serie2 = pd.Series(arr)\n",
    "serie3 = pd.Series(diccionario)\n",
    "print(serie3.head())#panda.head() Esta función devuelve las primeras n filas para el objeto según la posición."
   ]
  }
 ],
 "metadata": {
  "kernelspec": {
   "display_name": "Python 3",
   "language": "python",
   "name": "python3"
  },
  "language_info": {
   "codemirror_mode": {
    "name": "ipython",
    "version": 3
   },
   "file_extension": ".py",
   "mimetype": "text/x-python",
   "name": "python",
   "nbconvert_exporter": "python",
   "pygments_lexer": "ipython3",
   "version": "3.7.1"
  }
 },
 "nbformat": 4,
 "nbformat_minor": 2
}
